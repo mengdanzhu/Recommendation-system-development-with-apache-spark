{
  "nbformat": 4,
  "nbformat_minor": 0,
  "metadata": {
    "colab": {
      "name": "Recommendation system on MovieLens.ipynb",
      "provenance": [],
      "collapsed_sections": [],
      "toc_visible": true
    },
    "kernelspec": {
      "name": "python3",
      "display_name": "Python 3"
    }
  },
  "cells": [
    {
      "cell_type": "markdown",
      "metadata": {
        "id": "sBD0yaToa1H8",
        "colab_type": "text"
      },
      "source": [
        "### Spark Setup "
      ]
    },
    {
      "cell_type": "code",
      "metadata": {
        "id": "NWZILV2Vpht9",
        "colab_type": "code",
        "outputId": "7109481c-75b5-4f52-a3f6-95e04f0f8dc7",
        "colab": {
          "base_uri": "https://localhost:8080/",
          "height": 122
        }
      },
      "source": [
        "!apt-get install openjdk-8-jdk-headless -qq > /dev/null\n",
        "!wget -q http://apache.mirrors.hoobly.com/spark/spark-2.4.5/spark-2.4.5-bin-hadoop2.7.tgz\n",
        "!tar xf spark-2.4.5-bin-hadoop2.7.tgz\n",
        "!pip install -q findspark\n",
        "!pip install py4j"
      ],
      "execution_count": 0,
      "outputs": [
        {
          "output_type": "stream",
          "text": [
            "Collecting py4j\n",
            "\u001b[?25l  Downloading https://files.pythonhosted.org/packages/9e/b6/6a4fb90cd235dc8e265a6a2067f2a2c99f0d91787f06aca4bcf7c23f3f80/py4j-0.10.9-py2.py3-none-any.whl (198kB)\n",
            "\r\u001b[K     |█▋                              | 10kB 17.1MB/s eta 0:00:01\r\u001b[K     |███▎                            | 20kB 2.9MB/s eta 0:00:01\r\u001b[K     |█████                           | 30kB 3.1MB/s eta 0:00:01\r\u001b[K     |██████▋                         | 40kB 3.5MB/s eta 0:00:01\r\u001b[K     |████████▎                       | 51kB 3.4MB/s eta 0:00:01\r\u001b[K     |██████████                      | 61kB 3.8MB/s eta 0:00:01\r\u001b[K     |███████████▌                    | 71kB 4.1MB/s eta 0:00:01\r\u001b[K     |█████████████▏                  | 81kB 4.1MB/s eta 0:00:01\r\u001b[K     |██████████████▉                 | 92kB 4.3MB/s eta 0:00:01\r\u001b[K     |████████████████▌               | 102kB 4.4MB/s eta 0:00:01\r\u001b[K     |██████████████████▏             | 112kB 4.4MB/s eta 0:00:01\r\u001b[K     |███████████████████▉            | 122kB 4.4MB/s eta 0:00:01\r\u001b[K     |█████████████████████▌          | 133kB 4.4MB/s eta 0:00:01\r\u001b[K     |███████████████████████         | 143kB 4.4MB/s eta 0:00:01\r\u001b[K     |████████████████████████▊       | 153kB 4.4MB/s eta 0:00:01\r\u001b[K     |██████████████████████████▍     | 163kB 4.4MB/s eta 0:00:01\r\u001b[K     |████████████████████████████    | 174kB 4.4MB/s eta 0:00:01\r\u001b[K     |█████████████████████████████▊  | 184kB 4.4MB/s eta 0:00:01\r\u001b[K     |███████████████████████████████▍| 194kB 4.4MB/s eta 0:00:01\r\u001b[K     |████████████████████████████████| 204kB 4.4MB/s \n",
            "\u001b[?25hInstalling collected packages: py4j\n",
            "Successfully installed py4j-0.10.9\n"
          ],
          "name": "stdout"
        }
      ]
    },
    {
      "cell_type": "code",
      "metadata": {
        "id": "jKTeRLPiqx_W",
        "colab_type": "code",
        "outputId": "962b4c3f-573d-41c3-f8a4-95f1e6a0d4dc",
        "colab": {
          "base_uri": "https://localhost:8080/",
          "height": 34
        }
      },
      "source": [
        "!ls"
      ],
      "execution_count": 0,
      "outputs": [
        {
          "output_type": "stream",
          "text": [
            "sample_data  spark-2.4.5-bin-hadoop2.7\tspark-2.4.5-bin-hadoop2.7.tgz\n"
          ],
          "name": "stdout"
        }
      ]
    },
    {
      "cell_type": "code",
      "metadata": {
        "id": "dI4ATas0si0B",
        "colab_type": "code",
        "outputId": "f8981e5a-4b02-47ff-f43b-5a217265946d",
        "colab": {
          "base_uri": "https://localhost:8080/",
          "height": 34
        }
      },
      "source": [
        "!export JAVA_HOME=$(/usr/lib/jvm/java-8-openjdk-amd64 -v 1.8)"
      ],
      "execution_count": 0,
      "outputs": [
        {
          "output_type": "stream",
          "text": [
            "/bin/bash: /usr/lib/jvm/java-8-openjdk-amd64: Is a directory\n"
          ],
          "name": "stdout"
        }
      ]
    },
    {
      "cell_type": "code",
      "metadata": {
        "id": "wOtWAJiMs471",
        "colab_type": "code",
        "outputId": "afd15d2e-4eaa-49e7-8614-fc922a29fed0",
        "colab": {
          "base_uri": "https://localhost:8080/",
          "height": 34
        }
      },
      "source": [
        "! echo $JAVA_HOME"
      ],
      "execution_count": 0,
      "outputs": [
        {
          "output_type": "stream",
          "text": [
            "/usr/lib/jvm/java-8-openjdk-amd64\n"
          ],
          "name": "stdout"
        }
      ]
    },
    {
      "cell_type": "code",
      "metadata": {
        "id": "Wk8OmG2pFK0M",
        "colab_type": "code",
        "colab": {}
      },
      "source": [
        "import numpy as np\n",
        "import pandas as pd\n",
        "import seaborn as sns\n",
        "import matplotlib.pyplot as plt\n",
        "import math\n",
        "%matplotlib inline\n"
      ],
      "execution_count": 0,
      "outputs": []
    },
    {
      "cell_type": "code",
      "metadata": {
        "id": "PrssEodDppKi",
        "colab_type": "code",
        "colab": {}
      },
      "source": [
        "import os\n",
        "os.environ[\"JAVA_HOME\"] = \"/usr/lib/jvm/java-8-openjdk-amd64\"\n",
        "os.environ[\"SPARK_HOME\"] = \"/content/spark-2.4.5-bin-hadoop2.7\"\n",
        "import findspark\n",
        "findspark.init(\"spark-2.4.5-bin-hadoop2.7\")# SPARK_HOME\n",
        "\n",
        "from pyspark.sql import SparkSession\n",
        "spark = SparkSession.builder.master(\"local[*]\").getOrCreate()\n"
      ],
      "execution_count": 0,
      "outputs": []
    },
    {
      "cell_type": "code",
      "metadata": {
        "id": "EYh_tv1ErseU",
        "colab_type": "code",
        "outputId": "6a30c9cf-88d6-4838-cfa4-1f6fb11fbef5",
        "colab": {
          "base_uri": "https://localhost:8080/",
          "height": 34
        }
      },
      "source": [
        "spark.version"
      ],
      "execution_count": 0,
      "outputs": [
        {
          "output_type": "execute_result",
          "data": {
            "text/plain": [
              "'2.4.5'"
            ]
          },
          "metadata": {
            "tags": []
          },
          "execution_count": 17
        }
      ]
    },
    {
      "cell_type": "code",
      "metadata": {
        "id": "QEyZcOm-pTV4",
        "colab_type": "code",
        "colab": {}
      },
      "source": [
        "import os\n",
        "os.environ[\"JAVA_HOME\"] = \"/usr/lib/jvm/java-8-openjdk-amd64\""
      ],
      "execution_count": 0,
      "outputs": []
    },
    {
      "cell_type": "code",
      "metadata": {
        "id": "agQ3RAaUImOU",
        "colab_type": "code",
        "colab": {}
      },
      "source": [
        "spark = SparkSession \\\n",
        "    .builder \\\n",
        "    .appName(\"moive analysis\") \\\n",
        "    .config(\"spark.some.config.option\", \"some-value\") \\\n",
        "    .getOrCreate()"
      ],
      "execution_count": 0,
      "outputs": []
    },
    {
      "cell_type": "markdown",
      "metadata": {
        "id": "wlCD8xnZeXkU",
        "colab_type": "text"
      },
      "source": [
        ""
      ]
    },
    {
      "cell_type": "markdown",
      "metadata": {
        "id": "sGh7tSR-ZAzd",
        "colab_type": "text"
      },
      "source": [
        "Part1: Data ETL and Data Exploration"
      ]
    },
    {
      "cell_type": "markdown",
      "metadata": {
        "id": "7oWz67k3j6sI",
        "colab_type": "text"
      },
      "source": [
        "### Read data from your machine"
      ]
    },
    {
      "cell_type": "code",
      "metadata": {
        "id": "CbsoaAHha_GN",
        "colab_type": "code",
        "outputId": "852ee495-0f3d-4fe5-a03c-cebae349ed14",
        "colab": {
          "resources": {
            "http://localhost:8080/nbextensions/google.colab/files.js": {
              "data": "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",
              "ok": true,
              "headers": [
                [
                  "content-type",
                  "application/javascript"
                ]
              ],
              "status": 200,
              "status_text": ""
            }
          },
          "base_uri": "https://localhost:8080/",
          "height": 292
        }
      },
      "source": [
        "from google.colab import files\n",
        "\n",
        "uploaded = files.upload()\n",
        "\n",
        "for fn in uploaded.keys():\n",
        "  print('User uploaded file \"{name}\" with length {length} bytes'.format(\n",
        "      name=fn, length=len(uploaded[fn])))"
      ],
      "execution_count": 0,
      "outputs": [
        {
          "output_type": "display_data",
          "data": {
            "text/html": [
              "\n",
              "     <input type=\"file\" id=\"files-2b9bdcaf-bed6-4f73-8257-f6cab39f3372\" name=\"files[]\" multiple disabled />\n",
              "     <output id=\"result-2b9bdcaf-bed6-4f73-8257-f6cab39f3372\">\n",
              "      Upload widget is only available when the cell has been executed in the\n",
              "      current browser session. Please rerun this cell to enable.\n",
              "      </output>\n",
              "      <script src=\"/nbextensions/google.colab/files.js\"></script> "
            ],
            "text/plain": [
              "<IPython.core.display.HTML object>"
            ]
          },
          "metadata": {
            "tags": []
          }
        },
        {
          "output_type": "stream",
          "text": [
            "Saving links.csv to links.csv\n",
            "Saving movies.csv to movies.csv\n",
            "Saving ratings.csv to ratings.csv\n",
            "Saving README.txt to README.txt\n",
            "Saving tags.csv to tags.csv\n",
            "User uploaded file \"links.csv\" with length 197979 bytes\n",
            "User uploaded file \"movies.csv\" with length 494431 bytes\n",
            "User uploaded file \"ratings.csv\" with length 2483723 bytes\n",
            "User uploaded file \"README.txt\" with length 8342 bytes\n",
            "User uploaded file \"tags.csv\" with length 118660 bytes\n"
          ],
          "name": "stdout"
        }
      ]
    },
    {
      "cell_type": "markdown",
      "metadata": {
        "id": "b9AUVOehj1Ol",
        "colab_type": "text"
      },
      "source": [
        ""
      ]
    },
    {
      "cell_type": "code",
      "metadata": {
        "id": "Jnj9YdHgblza",
        "colab_type": "code",
        "outputId": "51805ea9-9bc9-4f98-95a6-de3e131ecf2a",
        "colab": {
          "base_uri": "https://localhost:8080/",
          "height": 68
        }
      },
      "source": [
        "!ls"
      ],
      "execution_count": 0,
      "outputs": [
        {
          "output_type": "stream",
          "text": [
            "links.csv    README.txt\t\t\tspark-2.4.5-bin-hadoop2.7.tgz\n",
            "movies.csv   sample_data\t\ttags.csv\n",
            "ratings.csv  spark-2.4.5-bin-hadoop2.7\n"
          ],
          "name": "stdout"
        }
      ]
    },
    {
      "cell_type": "code",
      "metadata": {
        "id": "3FdwkP13jJJZ",
        "colab_type": "code",
        "outputId": "3f9ecf41-842e-42c8-ea25-1ebeeaa35147",
        "colab": {
          "base_uri": "https://localhost:8080/",
          "height": 170
        }
      },
      "source": [
        "import os \n",
        "os.listdir('./')"
      ],
      "execution_count": 0,
      "outputs": [
        {
          "output_type": "execute_result",
          "data": {
            "text/plain": [
              "['.config',\n",
              " 'spark-2.4.5-bin-hadoop2.7.tgz',\n",
              " 'tags.csv',\n",
              " 'spark-2.4.5-bin-hadoop2.7',\n",
              " 'links.csv',\n",
              " 'ratings.csv',\n",
              " 'movies.csv',\n",
              " 'README.txt',\n",
              " 'sample_data']"
            ]
          },
          "metadata": {
            "tags": []
          },
          "execution_count": 22
        }
      ]
    },
    {
      "cell_type": "code",
      "metadata": {
        "id": "Zz2DAl78Ir3z",
        "colab_type": "code",
        "colab": {}
      },
      "source": [
        "movies_df = spark.read.load(\"movies.csv\", format='csv', header = True)\n",
        "ratings_df = spark.read.load(\"ratings.csv\", format='csv', header = True)\n",
        "links_df = spark.read.load(\"links.csv\", format='csv', header = True)\n",
        "tags_df = spark.read.load(\"tags.csv\", format='csv', header = True)"
      ],
      "execution_count": 0,
      "outputs": []
    },
    {
      "cell_type": "code",
      "metadata": {
        "id": "aZeXBQYejZAA",
        "colab_type": "code",
        "outputId": "cdcdf89a-6429-4b6a-db17-c9b640fbd026",
        "colab": {
          "base_uri": "https://localhost:8080/",
          "height": 102
        }
      },
      "source": [
        "movies_df.printSchema()"
      ],
      "execution_count": 0,
      "outputs": [
        {
          "output_type": "stream",
          "text": [
            "root\n",
            " |-- movieId: string (nullable = true)\n",
            " |-- title: string (nullable = true)\n",
            " |-- genres: string (nullable = true)\n",
            "\n"
          ],
          "name": "stdout"
        }
      ]
    },
    {
      "cell_type": "code",
      "metadata": {
        "id": "8HBh2raINLQV",
        "colab_type": "code",
        "outputId": "36bbbb8f-7392-4bed-8b43-9ae208c05b49",
        "colab": {
          "base_uri": "https://localhost:8080/",
          "height": 119
        }
      },
      "source": [
        "ratings_df.printSchema()"
      ],
      "execution_count": 0,
      "outputs": [
        {
          "output_type": "stream",
          "text": [
            "root\n",
            " |-- userId: string (nullable = true)\n",
            " |-- movieId: string (nullable = true)\n",
            " |-- rating: string (nullable = true)\n",
            " |-- timestamp: string (nullable = true)\n",
            "\n"
          ],
          "name": "stdout"
        }
      ]
    },
    {
      "cell_type": "code",
      "metadata": {
        "id": "VKEhsyHrNPEh",
        "colab_type": "code",
        "outputId": "43449d8a-1d1d-4a35-d0dd-daa3ded0ea57",
        "colab": {
          "base_uri": "https://localhost:8080/",
          "height": 102
        }
      },
      "source": [
        "links_df.printSchema()"
      ],
      "execution_count": 0,
      "outputs": [
        {
          "output_type": "stream",
          "text": [
            "root\n",
            " |-- movieId: string (nullable = true)\n",
            " |-- imdbId: string (nullable = true)\n",
            " |-- tmdbId: string (nullable = true)\n",
            "\n"
          ],
          "name": "stdout"
        }
      ]
    },
    {
      "cell_type": "code",
      "metadata": {
        "id": "a5gR-5sgNTdF",
        "colab_type": "code",
        "outputId": "7307aae3-29b7-44ef-e424-58a07d138b84",
        "colab": {
          "base_uri": "https://localhost:8080/",
          "height": 119
        }
      },
      "source": [
        "tags_df.printSchema()"
      ],
      "execution_count": 0,
      "outputs": [
        {
          "output_type": "stream",
          "text": [
            "root\n",
            " |-- userId: string (nullable = true)\n",
            " |-- movieId: string (nullable = true)\n",
            " |-- tag: string (nullable = true)\n",
            " |-- timestamp: string (nullable = true)\n",
            "\n"
          ],
          "name": "stdout"
        }
      ]
    },
    {
      "cell_type": "code",
      "metadata": {
        "id": "RGE5HG-_dqZy",
        "colab_type": "code",
        "outputId": "0b754072-2e46-45c1-cacb-135846e6691f",
        "colab": {
          "base_uri": "https://localhost:8080/",
          "height": 204
        }
      },
      "source": [
        "movies_df.show(5)"
      ],
      "execution_count": 0,
      "outputs": [
        {
          "output_type": "stream",
          "text": [
            "+-------+--------------------+--------------------+\n",
            "|movieId|               title|              genres|\n",
            "+-------+--------------------+--------------------+\n",
            "|      1|    Toy Story (1995)|Adventure|Animati...|\n",
            "|      2|      Jumanji (1995)|Adventure|Childre...|\n",
            "|      3|Grumpier Old Men ...|      Comedy|Romance|\n",
            "|      4|Waiting to Exhale...|Comedy|Drama|Romance|\n",
            "|      5|Father of the Bri...|              Comedy|\n",
            "+-------+--------------------+--------------------+\n",
            "only showing top 5 rows\n",
            "\n"
          ],
          "name": "stdout"
        }
      ]
    },
    {
      "cell_type": "code",
      "metadata": {
        "id": "7jeohqGDNxux",
        "colab_type": "code",
        "outputId": "1047762d-eb8e-402a-cd20-7816019aca92",
        "colab": {
          "base_uri": "https://localhost:8080/",
          "height": 204
        }
      },
      "source": [
        "ratings_df.show(5)"
      ],
      "execution_count": 0,
      "outputs": [
        {
          "output_type": "stream",
          "text": [
            "+------+-------+------+---------+\n",
            "|userId|movieId|rating|timestamp|\n",
            "+------+-------+------+---------+\n",
            "|     1|      1|   4.0|964982703|\n",
            "|     1|      3|   4.0|964981247|\n",
            "|     1|      6|   4.0|964982224|\n",
            "|     1|     47|   5.0|964983815|\n",
            "|     1|     50|   5.0|964982931|\n",
            "+------+-------+------+---------+\n",
            "only showing top 5 rows\n",
            "\n"
          ],
          "name": "stdout"
        }
      ]
    },
    {
      "cell_type": "code",
      "metadata": {
        "id": "XWzMIUalZL9W",
        "colab_type": "code",
        "outputId": "d0fd4ec7-bf35-45ad-f20a-b374efcc7daf",
        "colab": {
          "base_uri": "https://localhost:8080/",
          "height": 68
        }
      },
      "source": [
        "tmp1 = ratings_df.groupBy(\"userID\").count().select('count').rdd.min()[0]\n",
        "tmp2 = ratings_df.groupBy(\"movieId\").count().select('count').rdd.min()[0]\n",
        "print('For the users that rated movies and the movies that were rated:')\n",
        "print('Minimum number of ratings per user is {}'.format(tmp1))\n",
        "print('Minimum number of ratings per movie is {}'.format(tmp2))"
      ],
      "execution_count": 0,
      "outputs": [
        {
          "output_type": "stream",
          "text": [
            "For the users that rated movies and the movies that were rated:\n",
            "Minimum number of ratings per user is 20\n",
            "Minimum number of ratings per movie is 1\n"
          ],
          "name": "stdout"
        }
      ]
    },
    {
      "cell_type": "code",
      "metadata": {
        "id": "pa2KdGnEZYA4",
        "colab_type": "code",
        "outputId": "3772353f-b31c-405d-df26-7bc79a5c3d20",
        "colab": {
          "base_uri": "https://localhost:8080/",
          "height": 34
        }
      },
      "source": [
        "tmp1 = ratings_df.groupBy(\"movieId\").count().filter('count = 1').count()\n",
        "tmp2 = ratings_df.select('movieId').distinct().count()\n",
        "print('{} out of {} movies are rated by only one user'.format(tmp1, tmp2))"
      ],
      "execution_count": 0,
      "outputs": [
        {
          "output_type": "stream",
          "text": [
            "3446 out of 9724 movies are rated by only one user\n"
          ],
          "name": "stdout"
        }
      ]
    },
    {
      "cell_type": "markdown",
      "metadata": {
        "id": "o-7bevIDZf5D",
        "colab_type": "text"
      },
      "source": [
        "Part 1: Spark SQL and OLAP"
      ]
    },
    {
      "cell_type": "code",
      "metadata": {
        "id": "nDPGCsvrZidv",
        "colab_type": "code",
        "colab": {}
      },
      "source": [
        "movies_df.registerTempTable(\"movies\")\n",
        "ratings_df.registerTempTable(\"ratings\")\n",
        "links_df.registerTempTable(\"links\")\n",
        "tags_df.registerTempTable(\"tags\")"
      ],
      "execution_count": 0,
      "outputs": []
    },
    {
      "cell_type": "markdown",
      "metadata": {
        "id": "HLnmWA40fCGK",
        "colab_type": "text"
      },
      "source": [
        "Q1: The number of Users"
      ]
    },
    {
      "cell_type": "code",
      "metadata": {
        "id": "5hFs4j3mhOWI",
        "colab_type": "code",
        "outputId": "409e119f-5456-465d-fecd-2d657c906f3c",
        "colab": {
          "base_uri": "https://localhost:8080/",
          "height": 119
        }
      },
      "source": [
        "output = spark.sql(\"select count(distinct userID) as Number_of_users from ratings\")\n",
        "output.show()"
      ],
      "execution_count": 0,
      "outputs": [
        {
          "output_type": "stream",
          "text": [
            "+---------------+\n",
            "|Number_of_users|\n",
            "+---------------+\n",
            "|            610|\n",
            "+---------------+\n",
            "\n"
          ],
          "name": "stdout"
        }
      ]
    },
    {
      "cell_type": "markdown",
      "metadata": {
        "id": "VSS_IXq2glGm",
        "colab_type": "text"
      },
      "source": [
        "Q2: The number of Movies"
      ]
    },
    {
      "cell_type": "code",
      "metadata": {
        "colab_type": "code",
        "outputId": "5c788ae9-1807-4360-cb67-657a3ab52106",
        "id": "ppAs5E6pgr44",
        "colab": {
          "base_uri": "https://localhost:8080/",
          "height": 119
        }
      },
      "source": [
        "output = spark.sql(\"select count(distinct movieId) as Number_of_movies from movies\")\n",
        "output.show()"
      ],
      "execution_count": 0,
      "outputs": [
        {
          "output_type": "stream",
          "text": [
            "+----------------+\n",
            "|Number_of_movies|\n",
            "+----------------+\n",
            "|            9742|\n",
            "+----------------+\n",
            "\n"
          ],
          "name": "stdout"
        }
      ]
    },
    {
      "cell_type": "markdown",
      "metadata": {
        "id": "VqmMZR5JqpCL",
        "colab_type": "text"
      },
      "source": [
        "Q3: How many movies are rated by users? List movies not rated before"
      ]
    },
    {
      "cell_type": "code",
      "metadata": {
        "id": "8EtuiVSzpYwD",
        "colab_type": "code",
        "outputId": "41b70947-384c-44d0-e02e-a076726c0c51",
        "colab": {
          "base_uri": "https://localhost:8080/",
          "height": 119
        }
      },
      "source": [
        "#how many movies are rated by users??\n",
        "output=spark.sql(\"select count(distinct movieId) as rated_movies from ratings\")\n",
        "output.show()"
      ],
      "execution_count": 0,
      "outputs": [
        {
          "output_type": "stream",
          "text": [
            "+------------+\n",
            "|rated_movies|\n",
            "+------------+\n",
            "|        9724|\n",
            "+------------+\n",
            "\n"
          ],
          "name": "stdout"
        }
      ]
    },
    {
      "cell_type": "code",
      "metadata": {
        "id": "MABgmpgSsOIS",
        "colab_type": "code",
        "outputId": "66ec8f3b-d35a-42ad-9437-991f7fcb9a22",
        "colab": {
          "base_uri": "https://localhost:8080/",
          "height": 408
        }
      },
      "source": [
        "output=spark.sql(\"select title, genres from movies where movieID not in(select movieId from ratings)\")\n",
        "output.show()"
      ],
      "execution_count": 0,
      "outputs": [
        {
          "output_type": "stream",
          "text": [
            "+--------------------+--------------------+\n",
            "|               title|              genres|\n",
            "+--------------------+--------------------+\n",
            "|Innocents, The (1...|Drama|Horror|Thri...|\n",
            "|      Niagara (1953)|      Drama|Thriller|\n",
            "|For All Mankind (...|         Documentary|\n",
            "|Color of Paradise...|               Drama|\n",
            "|I Know Where I'm ...|   Drama|Romance|War|\n",
            "|  Chosen, The (1981)|               Drama|\n",
            "|Road Home, The (W...|       Drama|Romance|\n",
            "|      Scrooge (1970)|Drama|Fantasy|Mus...|\n",
            "|        Proof (1991)|Comedy|Drama|Romance|\n",
            "|Parallax View, Th...|            Thriller|\n",
            "|This Gun for Hire...|Crime|Film-Noir|T...|\n",
            "|Roaring Twenties,...|Crime|Drama|Thriller|\n",
            "|Mutiny on the Bou...|Adventure|Drama|R...|\n",
            "|In the Realms of ...|Animation|Documen...|\n",
            "|Twentieth Century...|              Comedy|\n",
            "|Call Northside 77...|Crime|Drama|Film-...|\n",
            "|Browning Version,...|               Drama|\n",
            "|  Chalet Girl (2011)|      Comedy|Romance|\n",
            "+--------------------+--------------------+\n",
            "\n"
          ],
          "name": "stdout"
        }
      ]
    },
    {
      "cell_type": "code",
      "metadata": {
        "id": "yQFfgvgEtm6x",
        "colab_type": "code",
        "outputId": "2cf223da-217b-49d5-8ef5-0473064db95f",
        "colab": {
          "base_uri": "https://localhost:8080/",
          "height": 459
        }
      },
      "source": [
        "output=spark.sql(\"select distinct genres from movies\")\n",
        "output.show()"
      ],
      "execution_count": 0,
      "outputs": [
        {
          "output_type": "stream",
          "text": [
            "+--------------------+\n",
            "|              genres|\n",
            "+--------------------+\n",
            "|Comedy|Horror|Thr...|\n",
            "|Adventure|Sci-Fi|...|\n",
            "|Action|Adventure|...|\n",
            "| Action|Drama|Horror|\n",
            "|Action|Animation|...|\n",
            "|Animation|Childre...|\n",
            "|Action|Adventure|...|\n",
            "|    Adventure|Sci-Fi|\n",
            "|Documentary|Music...|\n",
            "|Adventure|Childre...|\n",
            "| Adventure|Animation|\n",
            "| Musical|Romance|War|\n",
            "|Action|Adventure|...|\n",
            "|Adventure|Childre...|\n",
            "|Comedy|Crime|Horr...|\n",
            "|Crime|Drama|Fanta...|\n",
            "|Comedy|Mystery|Th...|\n",
            "|   Adventure|Fantasy|\n",
            "|Horror|Romance|Sc...|\n",
            "|Drama|Film-Noir|R...|\n",
            "+--------------------+\n",
            "only showing top 20 rows\n",
            "\n"
          ],
          "name": "stdout"
        }
      ]
    },
    {
      "cell_type": "code",
      "metadata": {
        "id": "1cuVLxaht2_m",
        "colab_type": "code",
        "outputId": "a70bdba1-3cce-4a1f-f169-8e2609c855e7",
        "colab": {
          "base_uri": "https://localhost:8080/",
          "height": 442
        }
      },
      "source": [
        "output=spark.sql(\"Select distinct Category from movies \\\n",
        "lateral view explode(split(genres,'[|]')) as Category order by Category\")\n",
        "output.show()"
      ],
      "execution_count": 0,
      "outputs": [
        {
          "output_type": "stream",
          "text": [
            "+------------------+\n",
            "|          Category|\n",
            "+------------------+\n",
            "|(no genres listed)|\n",
            "|            Action|\n",
            "|         Adventure|\n",
            "|         Animation|\n",
            "|          Children|\n",
            "|            Comedy|\n",
            "|             Crime|\n",
            "|       Documentary|\n",
            "|             Drama|\n",
            "|           Fantasy|\n",
            "|         Film-Noir|\n",
            "|            Horror|\n",
            "|              IMAX|\n",
            "|           Musical|\n",
            "|           Mystery|\n",
            "|           Romance|\n",
            "|            Sci-Fi|\n",
            "|          Thriller|\n",
            "|               War|\n",
            "|           Western|\n",
            "+------------------+\n",
            "\n"
          ],
          "name": "stdout"
        }
      ]
    },
    {
      "cell_type": "markdown",
      "metadata": {
        "id": "qUSaQZtUDzFa",
        "colab_type": "text"
      },
      "source": [
        "Q5: Movie for each category"
      ]
    },
    {
      "cell_type": "code",
      "metadata": {
        "id": "oCq6OwCZABrE",
        "colab_type": "code",
        "outputId": "77ed7de1-ba60-4868-d3f4-331782be68bb",
        "colab": {
          "base_uri": "https://localhost:8080/",
          "height": 442
        }
      },
      "source": [
        "output=spark.sql(\"Select Category, count(*) as number from movies \\\n",
        "lateral view explode(split(genres,'[|]')) as Category group by Category order by number desc\")\n",
        "output.show()"
      ],
      "execution_count": 0,
      "outputs": [
        {
          "output_type": "stream",
          "text": [
            "+------------------+------+\n",
            "|          Category|number|\n",
            "+------------------+------+\n",
            "|             Drama|  4361|\n",
            "|            Comedy|  3756|\n",
            "|          Thriller|  1894|\n",
            "|            Action|  1828|\n",
            "|           Romance|  1596|\n",
            "|         Adventure|  1263|\n",
            "|             Crime|  1199|\n",
            "|            Sci-Fi|   980|\n",
            "|            Horror|   978|\n",
            "|           Fantasy|   779|\n",
            "|          Children|   664|\n",
            "|         Animation|   611|\n",
            "|           Mystery|   573|\n",
            "|       Documentary|   440|\n",
            "|               War|   382|\n",
            "|           Musical|   334|\n",
            "|           Western|   167|\n",
            "|              IMAX|   158|\n",
            "|         Film-Noir|    87|\n",
            "|(no genres listed)|    34|\n",
            "+------------------+------+\n",
            "\n"
          ],
          "name": "stdout"
        }
      ]
    },
    {
      "cell_type": "code",
      "metadata": {
        "id": "QtsEGrWCFXMx",
        "colab_type": "code",
        "outputId": "18f7caa2-a0c1-461c-8d48-6057fda51c43",
        "colab": {
          "base_uri": "https://localhost:8080/",
          "height": 442
        }
      },
      "source": [
        "output=spark.sql(\"Select Category, concat_ws(',', collect_set(title)) as list_of_movies from \\\n",
        "(Select Category, title from movies lateral view explode(split(genres,'[|]')) as Category \\\n",
        "group by Category, title) t group by Category\")\n",
        "output.show()"
      ],
      "execution_count": 0,
      "outputs": [
        {
          "output_type": "stream",
          "text": [
            "+------------------+--------------------+\n",
            "|          Category|      list_of_movies|\n",
            "+------------------+--------------------+\n",
            "|             Crime|Stealing Rembrand...|\n",
            "|           Romance|Vampire in Brookl...|\n",
            "|          Thriller|Element of Crime,...|\n",
            "|         Adventure|Ice Age: Collisio...|\n",
            "|             Drama|Airport '77 (1977...|\n",
            "|               War|General, The (192...|\n",
            "|       Documentary|Jim & Andy: The G...|\n",
            "|           Fantasy|Masters of the Un...|\n",
            "|           Mystery|Before and After ...|\n",
            "|           Musical|U2: Rattle and Hu...|\n",
            "|         Animation|Ice Age: Collisio...|\n",
            "|         Film-Noir|Rififi (Du rififi...|\n",
            "|(no genres listed)|T2 3-D: Battle Ac...|\n",
            "|              IMAX|Harry Potter and ...|\n",
            "|            Horror|Tormented (1960),...|\n",
            "|           Western|Man Who Shot Libe...|\n",
            "|            Comedy|Hysteria (2011),H...|\n",
            "|          Children|Ice Age: Collisio...|\n",
            "|            Action|Stealing Rembrand...|\n",
            "|            Sci-Fi|Push (2009),SORI:...|\n",
            "+------------------+--------------------+\n",
            "\n"
          ],
          "name": "stdout"
        }
      ]
    },
    {
      "cell_type": "markdown",
      "metadata": {
        "id": "7EJ8TuBFQOXS",
        "colab_type": "text"
      },
      "source": [
        "Part2: Spark ALS based approach for training model\n",
        "We will use an Spark ML to predict the ratings, so let's reload \"ratings.csv\" using sc.textFile and then convert it to the form of (user, item, rating) tuples."
      ]
    },
    {
      "cell_type": "code",
      "metadata": {
        "id": "tlzfJ6hFQQcs",
        "colab_type": "code",
        "colab": {}
      },
      "source": [
        "movie_ratings=ratings_df.drop('timestamp')"
      ],
      "execution_count": 0,
      "outputs": []
    },
    {
      "cell_type": "code",
      "metadata": {
        "id": "bwuQjk-BQdFz",
        "colab_type": "code",
        "colab": {}
      },
      "source": [
        "# Data type convert\n",
        "from pyspark.sql.types import IntegerType, FloatType\n",
        "movie_ratings = movie_ratings.withColumn(\"userId\", movie_ratings[\"userId\"].cast(IntegerType()))\n",
        "movie_ratings = movie_ratings.withColumn(\"movieId\", movie_ratings[\"movieId\"].cast(IntegerType()))\n",
        "movie_ratings = movie_ratings.withColumn(\"rating\", movie_ratings[\"rating\"].cast(FloatType()))"
      ],
      "execution_count": 0,
      "outputs": []
    },
    {
      "cell_type": "markdown",
      "metadata": {
        "id": "YGtnKYm2SglP",
        "colab_type": "text"
      },
      "source": [
        "**ALS Model Selection and Evaluation**\n",
        "\n",
        "With the ALS model, we can use a grid search to find the optimal hyperparameters."
      ]
    },
    {
      "cell_type": "code",
      "metadata": {
        "id": "iSsb28HXQg6u",
        "colab_type": "code",
        "colab": {}
      },
      "source": [
        "# import package\n",
        "from pyspark.ml.evaluation import RegressionEvaluator\n",
        "from pyspark.ml.recommendation import ALS\n",
        "from pyspark.ml.tuning import CrossValidator,ParamGridBuilder"
      ],
      "execution_count": 0,
      "outputs": []
    },
    {
      "cell_type": "code",
      "metadata": {
        "id": "Ldz0jv4LS6Mg",
        "colab_type": "code",
        "colab": {}
      },
      "source": [
        "#Create test and train set\n",
        "(training,test)=movie_ratings.randomSplit([0.8,0.2], seed = 12)"
      ],
      "execution_count": 0,
      "outputs": []
    },
    {
      "cell_type": "code",
      "metadata": {
        "id": "zDACcUOlS-Ko",
        "colab_type": "code",
        "colab": {}
      },
      "source": [
        "#Create ALS model\n",
        "als = ALS(maxIter=5, rank=10, regParam=0.01, userCol=\"userId\", itemCol=\"movieId\", ratingCol=\"rating\",\n",
        "          coldStartStrategy=\"drop\")"
      ],
      "execution_count": 0,
      "outputs": []
    },
    {
      "cell_type": "code",
      "metadata": {
        "id": "YETb6NcuTF0N",
        "colab_type": "code",
        "colab": {}
      },
      "source": [
        "#Tune model using ParamGridBuilder\n",
        "paramGrid = ParamGridBuilder()\\\n",
        "            .addGrid(als.regParam, [0.1, 0.01, 0.001])\\\n",
        "            .addGrid(als.maxIter, [3, 5, 10])\\\n",
        "            .addGrid(als.rank, [5, 10, 15])\\\n",
        "            .build()"
      ],
      "execution_count": 0,
      "outputs": []
    },
    {
      "cell_type": "code",
      "metadata": {
        "id": "jcSe2uYjTTB-",
        "colab_type": "code",
        "colab": {}
      },
      "source": [
        "# Define evaluator as RMSE\n",
        "evaluator = RegressionEvaluator(metricName=\"rmse\", labelCol=\"rating\",\n",
        "                                predictionCol=\"prediction\")"
      ],
      "execution_count": 0,
      "outputs": []
    },
    {
      "cell_type": "code",
      "metadata": {
        "id": "NNgQnF6mTV1C",
        "colab_type": "code",
        "colab": {}
      },
      "source": [
        "# Build Cross validation \n",
        "crossval = CrossValidator(estimator=als,\n",
        "                          estimatorParamMaps=paramGrid,\n",
        "                          evaluator=evaluator,\n",
        "                          numFolds=5)"
      ],
      "execution_count": 0,
      "outputs": []
    },
    {
      "cell_type": "code",
      "metadata": {
        "id": "G-jPIgoaTXzf",
        "colab_type": "code",
        "colab": {}
      },
      "source": [
        "#Fit ALS model to training data\n",
        "model = als.fit(training)"
      ],
      "execution_count": 0,
      "outputs": []
    },
    {
      "cell_type": "code",
      "metadata": {
        "id": "tCE3MhRcTaFW",
        "colab_type": "code",
        "outputId": "e6c19621-4247-4ea8-eb05-042547fbac58",
        "colab": {
          "base_uri": "https://localhost:8080/",
          "height": 34
        }
      },
      "source": [
        "#Extract best model from the tuning exercise using ParamGridBuilder\n",
        "cvModel = crossval.fit(training)\n",
        "predictions = cvModel.transform(training)\n",
        "rmse = evaluator.evaluate(predictions)\n",
        "print(\"Root-mean-square error = \" + str(rmse))"
      ],
      "execution_count": 0,
      "outputs": [
        {
          "output_type": "stream",
          "text": [
            "Root-mean-square error = 0.6396344464539596\n"
          ],
          "name": "stdout"
        }
      ]
    },
    {
      "cell_type": "markdown",
      "metadata": {
        "id": "rTD0hIfwVD0g",
        "colab_type": "text"
      },
      "source": [
        "**Model testing**\n",
        "\n",
        "And finally, make a prediction and check the testing error."
      ]
    },
    {
      "cell_type": "code",
      "metadata": {
        "id": "zmlp5vyIVHbu",
        "colab_type": "code",
        "colab": {}
      },
      "source": [
        "#Generate predictions and evaluate using RMSE\n",
        "best_model = cvModel.bestModel\n",
        "predictions=best_model.transform(test)\n",
        "rmse = evaluator.evaluate(predictions)"
      ],
      "execution_count": 0,
      "outputs": []
    },
    {
      "cell_type": "code",
      "metadata": {
        "id": "fEmgfbeuYFmU",
        "colab_type": "code",
        "outputId": "794283a3-f3ed-4bfb-e2ab-140bf675efd2",
        "colab": {
          "base_uri": "https://localhost:8080/",
          "height": 102
        }
      },
      "source": [
        "#Print evaluation metrics and model parameters\n",
        "print (\"RMSE = \"+str(rmse))\n",
        "print (\"**Best Model**\")\n",
        "print (\" Rank:\"+str(best_model._java_obj.parent().getRank())), \n",
        "print (\" MaxIter:\"+str(best_model._java_obj.parent().getMaxIter())), \n",
        "print (\" RegParam:\"+str(best_model._java_obj.parent().getRegParam()))"
      ],
      "execution_count": 0,
      "outputs": [
        {
          "output_type": "stream",
          "text": [
            "RMSE = 0.8791781344582082\n",
            "**Best Model**\n",
            " Rank:5\n",
            " MaxIter:10\n",
            " RegParam:0.1\n"
          ],
          "name": "stdout"
        }
      ]
    },
    {
      "cell_type": "code",
      "metadata": {
        "id": "MMH9xXT1YNP6",
        "colab_type": "code",
        "outputId": "c5acc72a-66b5-4a93-d541-ee29d068082d",
        "colab": {
          "base_uri": "https://localhost:8080/",
          "height": 459
        }
      },
      "source": [
        "predictions.show()"
      ],
      "execution_count": 0,
      "outputs": [
        {
          "output_type": "stream",
          "text": [
            "+------+-------+------+----------+\n",
            "|userId|movieId|rating|prediction|\n",
            "+------+-------+------+----------+\n",
            "|   133|    471|   4.0| 2.8902345|\n",
            "|   182|    471|   4.5| 3.9165268|\n",
            "|   218|    471|   4.0| 3.3796198|\n",
            "|   474|    471|   3.0| 3.4625764|\n",
            "|   387|    471|   3.0|  3.005991|\n",
            "|   555|    471|   3.0| 4.3878803|\n",
            "|   520|    471|   5.0|   3.64513|\n",
            "|   273|    471|   5.0| 4.2263184|\n",
            "|   104|    471|   4.5|  3.618175|\n",
            "|   463|   1088|   3.5| 3.4042325|\n",
            "|   159|   1088|   4.0| 2.8817494|\n",
            "|    20|   1088|   4.5| 3.5094023|\n",
            "|   583|   1088|   3.5| 3.3393486|\n",
            "|   555|   1088|   4.0| 3.8758426|\n",
            "|    84|   1088|   3.0| 3.1596396|\n",
            "|   268|   1238|   5.0| 3.9441013|\n",
            "|    19|   1238|   3.0| 3.3423872|\n",
            "|   425|   1342|   3.5| 1.9365878|\n",
            "|   593|   1580|   1.5|  2.843863|\n",
            "|   115|   1580|   4.0|  3.627467|\n",
            "+------+-------+------+----------+\n",
            "only showing top 20 rows\n",
            "\n"
          ],
          "name": "stdout"
        }
      ]
    },
    {
      "cell_type": "markdown",
      "metadata": {
        "id": "xSWwOKq1YQtE",
        "colab_type": "text"
      },
      "source": [
        "**Model apply and see the performance**"
      ]
    },
    {
      "cell_type": "code",
      "metadata": {
        "id": "Dh1kTNKTYSs8",
        "colab_type": "code",
        "outputId": "42268c49-4c90-40d0-c710-411153f587ca",
        "colab": {
          "base_uri": "https://localhost:8080/",
          "height": 51
        }
      },
      "source": [
        "alldata=best_model.transform(movie_ratings)\n",
        "print(alldata)\n",
        "rmse = evaluator.evaluate(alldata)\n",
        "print (\"RMSE = \"+str(rmse))"
      ],
      "execution_count": 0,
      "outputs": [
        {
          "output_type": "stream",
          "text": [
            "DataFrame[userId: int, movieId: int, rating: float, prediction: float]\n",
            "RMSE = 0.6928290986326348\n"
          ],
          "name": "stdout"
        }
      ]
    },
    {
      "cell_type": "code",
      "metadata": {
        "id": "zCqUWbtUYVnq",
        "colab_type": "code",
        "colab": {}
      },
      "source": [
        "alldata.registerTempTable(\"alldata\")"
      ],
      "execution_count": 0,
      "outputs": []
    },
    {
      "cell_type": "code",
      "metadata": {
        "id": "OmbqyJX3fnKo",
        "colab_type": "code",
        "outputId": "38cc0e92-c06b-40c3-ddf7-5993e9bfe306",
        "colab": {
          "base_uri": "https://localhost:8080/",
          "height": 459
        }
      },
      "source": [
        "output=spark.sql(\"Select * from alldata\")\n",
        "output.show()"
      ],
      "execution_count": 0,
      "outputs": [
        {
          "output_type": "stream",
          "text": [
            "+------+-------+------+----------+\n",
            "|userId|movieId|rating|prediction|\n",
            "+------+-------+------+----------+\n",
            "|   191|    148|   5.0| 4.9314938|\n",
            "|   133|    471|   4.0| 2.8902345|\n",
            "|   597|    471|   2.0|  4.010602|\n",
            "|   385|    471|   4.0| 3.0239646|\n",
            "|   436|    471|   3.0| 3.2848468|\n",
            "|   602|    471|   4.0| 3.7501707|\n",
            "|    91|    471|   1.0| 2.3306181|\n",
            "|   409|    471|   3.0| 3.7002354|\n",
            "|   372|    471|   3.0| 3.2912526|\n",
            "|   599|    471|   2.5| 2.5064275|\n",
            "|   603|    471|   4.0|  2.807358|\n",
            "|   182|    471|   4.5| 3.9165268|\n",
            "|   218|    471|   4.0| 3.3796198|\n",
            "|   474|    471|   3.0| 3.4625764|\n",
            "|   500|    471|   1.0| 2.2667398|\n",
            "|    57|    471|   3.0|  3.620501|\n",
            "|   462|    471|   2.5| 2.3731492|\n",
            "|   387|    471|   3.0|  3.005991|\n",
            "|   610|    471|   4.0| 3.3667607|\n",
            "|   217|    471|   2.0| 2.4807806|\n",
            "+------+-------+------+----------+\n",
            "only showing top 20 rows\n",
            "\n"
          ],
          "name": "stdout"
        }
      ]
    },
    {
      "cell_type": "code",
      "metadata": {
        "id": "ARiugY4mgA9y",
        "colab_type": "code",
        "outputId": "2ba6a2af-2335-494d-c3de-67f49a04a67f",
        "colab": {
          "base_uri": "https://localhost:8080/",
          "height": 459
        }
      },
      "source": [
        "output=spark.sql(\"Select * from movies join alldata on movies.movieId=alldata.movieId\")\n",
        "output.show()"
      ],
      "execution_count": 0,
      "outputs": [
        {
          "output_type": "stream",
          "text": [
            "+-------+--------------------+------+------+-------+------+----------+\n",
            "|movieId|               title|genres|userId|movieId|rating|prediction|\n",
            "+-------+--------------------+------+------+-------+------+----------+\n",
            "|    148|Awfully Big Adven...| Drama|   191|    148|   5.0| 4.9314938|\n",
            "|    471|Hudsucker Proxy, ...|Comedy|   133|    471|   4.0| 2.8902345|\n",
            "|    471|Hudsucker Proxy, ...|Comedy|   597|    471|   2.0|  4.010602|\n",
            "|    471|Hudsucker Proxy, ...|Comedy|   385|    471|   4.0| 3.0239646|\n",
            "|    471|Hudsucker Proxy, ...|Comedy|   436|    471|   3.0| 3.2848468|\n",
            "|    471|Hudsucker Proxy, ...|Comedy|   602|    471|   4.0| 3.7501707|\n",
            "|    471|Hudsucker Proxy, ...|Comedy|    91|    471|   1.0| 2.3306181|\n",
            "|    471|Hudsucker Proxy, ...|Comedy|   409|    471|   3.0| 3.7002354|\n",
            "|    471|Hudsucker Proxy, ...|Comedy|   372|    471|   3.0| 3.2912526|\n",
            "|    471|Hudsucker Proxy, ...|Comedy|   599|    471|   2.5| 2.5064275|\n",
            "|    471|Hudsucker Proxy, ...|Comedy|   603|    471|   4.0|  2.807358|\n",
            "|    471|Hudsucker Proxy, ...|Comedy|   182|    471|   4.5| 3.9165268|\n",
            "|    471|Hudsucker Proxy, ...|Comedy|   218|    471|   4.0| 3.3796198|\n",
            "|    471|Hudsucker Proxy, ...|Comedy|   474|    471|   3.0| 3.4625764|\n",
            "|    471|Hudsucker Proxy, ...|Comedy|   500|    471|   1.0| 2.2667398|\n",
            "|    471|Hudsucker Proxy, ...|Comedy|    57|    471|   3.0|  3.620501|\n",
            "|    471|Hudsucker Proxy, ...|Comedy|   462|    471|   2.5| 2.3731492|\n",
            "|    471|Hudsucker Proxy, ...|Comedy|   387|    471|   3.0|  3.005991|\n",
            "|    471|Hudsucker Proxy, ...|Comedy|   610|    471|   4.0| 3.3667607|\n",
            "|    471|Hudsucker Proxy, ...|Comedy|   217|    471|   2.0| 2.4807806|\n",
            "+-------+--------------------+------+------+-------+------+----------+\n",
            "only showing top 20 rows\n",
            "\n"
          ],
          "name": "stdout"
        }
      ]
    },
    {
      "cell_type": "markdown",
      "metadata": {
        "id": "aVVTw52CgXni",
        "colab_type": "text"
      },
      "source": [
        "**`Recommend movies to users with id: 575, 232.`**\n",
        "\n",
        "you can choose some users to recommend the movies"
      ]
    },
    {
      "cell_type": "code",
      "metadata": {
        "id": "f13cWmDTgq0k",
        "colab_type": "code",
        "colab": {}
      },
      "source": [
        "#Generate top 10 movie recommendations for each user\n",
        "userRecs = best_model.recommendForAllUsers(10)"
      ],
      "execution_count": 0,
      "outputs": []
    },
    {
      "cell_type": "code",
      "metadata": {
        "id": "7EFCsGvcj8se",
        "colab_type": "code",
        "outputId": "11a1979f-cc42-42ec-e55d-93587b5cb8de",
        "colab": {
          "base_uri": "https://localhost:8080/",
          "height": 119
        }
      },
      "source": [
        "userRecs.filter(userRecs.userId==575).show()"
      ],
      "execution_count": 0,
      "outputs": [
        {
          "output_type": "stream",
          "text": [
            "+------+--------------------+\n",
            "|userId|     recommendations|\n",
            "+------+--------------------+\n",
            "|   575|[[5485, 5.9325547...|\n",
            "+------+--------------------+\n",
            "\n"
          ],
          "name": "stdout"
        }
      ]
    },
    {
      "cell_type": "code",
      "metadata": {
        "id": "6JRnTzJrl3JG",
        "colab_type": "code",
        "outputId": "8a9ccddf-0844-4f6d-f5cf-9ae1ad0d6cf1",
        "colab": {
          "base_uri": "https://localhost:8080/",
          "height": 54
        }
      },
      "source": [
        "userRecs.head()"
      ],
      "execution_count": 0,
      "outputs": [
        {
          "output_type": "execute_result",
          "data": {
            "text/plain": [
              "Row(userId=471, recommendations=[Row(movieId=26171, rating=4.887014389038086), Row(movieId=7096, rating=4.855432510375977), Row(movieId=51931, rating=4.728470325469971), Row(movieId=158966, rating=4.671980381011963), Row(movieId=33649, rating=4.644101142883301), Row(movieId=89904, rating=4.6268086433410645), Row(movieId=4495, rating=4.620540618896484), Row(movieId=92494, rating=4.603967666625977), Row(movieId=26326, rating=4.572039604187012), Row(movieId=1411, rating=4.561243057250977)])"
            ]
          },
          "metadata": {
            "tags": []
          },
          "execution_count": 60
        }
      ]
    },
    {
      "cell_type": "code",
      "metadata": {
        "id": "FJ72AIZSnsGy",
        "colab_type": "code",
        "colab": {}
      },
      "source": [
        "user_rec=userRecs.toPandas()"
      ],
      "execution_count": 0,
      "outputs": []
    },
    {
      "cell_type": "code",
      "metadata": {
        "id": "8AGvVHRPogkp",
        "colab_type": "code",
        "outputId": "5463869a-1c1f-46bc-b25a-f64ede4daf3c",
        "colab": {
          "base_uri": "https://localhost:8080/",
          "height": 204
        }
      },
      "source": [
        "user_rec.head(5)"
      ],
      "execution_count": 0,
      "outputs": [
        {
          "output_type": "execute_result",
          "data": {
            "text/html": [
              "<div>\n",
              "<style scoped>\n",
              "    .dataframe tbody tr th:only-of-type {\n",
              "        vertical-align: middle;\n",
              "    }\n",
              "\n",
              "    .dataframe tbody tr th {\n",
              "        vertical-align: top;\n",
              "    }\n",
              "\n",
              "    .dataframe thead th {\n",
              "        text-align: right;\n",
              "    }\n",
              "</style>\n",
              "<table border=\"1\" class=\"dataframe\">\n",
              "  <thead>\n",
              "    <tr style=\"text-align: right;\">\n",
              "      <th></th>\n",
              "      <th>userId</th>\n",
              "      <th>recommendations</th>\n",
              "    </tr>\n",
              "  </thead>\n",
              "  <tbody>\n",
              "    <tr>\n",
              "      <th>0</th>\n",
              "      <td>471</td>\n",
              "      <td>[(26171, 4.887014389038086), (7096, 4.85543251...</td>\n",
              "    </tr>\n",
              "    <tr>\n",
              "      <th>1</th>\n",
              "      <td>463</td>\n",
              "      <td>[(33649, 5.205497741699219), (3379, 5.02415418...</td>\n",
              "    </tr>\n",
              "    <tr>\n",
              "      <th>2</th>\n",
              "      <td>496</td>\n",
              "      <td>[(51931, 5.303631782531738), (89904, 5.1255559...</td>\n",
              "    </tr>\n",
              "    <tr>\n",
              "      <th>3</th>\n",
              "      <td>148</td>\n",
              "      <td>[(26171, 5.268674373626709), (32892, 4.9461045...</td>\n",
              "    </tr>\n",
              "    <tr>\n",
              "      <th>4</th>\n",
              "      <td>540</td>\n",
              "      <td>[(33649, 5.663629531860352), (3379, 5.61428785...</td>\n",
              "    </tr>\n",
              "  </tbody>\n",
              "</table>\n",
              "</div>"
            ],
            "text/plain": [
              "   userId                                    recommendations\n",
              "0     471  [(26171, 4.887014389038086), (7096, 4.85543251...\n",
              "1     463  [(33649, 5.205497741699219), (3379, 5.02415418...\n",
              "2     496  [(51931, 5.303631782531738), (89904, 5.1255559...\n",
              "3     148  [(26171, 5.268674373626709), (32892, 4.9461045...\n",
              "4     540  [(33649, 5.663629531860352), (3379, 5.61428785..."
            ]
          },
          "metadata": {
            "tags": []
          },
          "execution_count": 62
        }
      ]
    },
    {
      "cell_type": "code",
      "metadata": {
        "id": "A5wMQ0eK-jTZ",
        "colab_type": "code",
        "colab": {}
      },
      "source": [
        "movies_pandas=movies_df.toPandas()"
      ],
      "execution_count": 0,
      "outputs": []
    },
    {
      "cell_type": "code",
      "metadata": {
        "id": "Z8bUIgHK7S5T",
        "colab_type": "code",
        "outputId": "82f93b3a-449d-4e18-d568-42b2a78c2d91",
        "colab": {
          "base_uri": "https://localhost:8080/",
          "height": 376
        }
      },
      "source": [
        "rec_movieId=[]\n",
        "for item in user_rec.loc[user_rec['userId']==575]['recommendations'][502]:\n",
        "  rec_movieId.append(str(item[0]))\n",
        "print(rec_movieId)\n",
        "movies_pandas[movies_pandas['movieId'].isin(rec_movieId)]"
      ],
      "execution_count": 0,
      "outputs": [
        {
          "output_type": "stream",
          "text": [
            "['5485', '3266', '306', '183897', '40491', '59018', '60943', '5992', '72171', '170705']\n"
          ],
          "name": "stdout"
        },
        {
          "output_type": "execute_result",
          "data": {
            "text/html": [
              "<div>\n",
              "<style scoped>\n",
              "    .dataframe tbody tr th:only-of-type {\n",
              "        vertical-align: middle;\n",
              "    }\n",
              "\n",
              "    .dataframe tbody tr th {\n",
              "        vertical-align: top;\n",
              "    }\n",
              "\n",
              "    .dataframe thead th {\n",
              "        text-align: right;\n",
              "    }\n",
              "</style>\n",
              "<table border=\"1\" class=\"dataframe\">\n",
              "  <thead>\n",
              "    <tr style=\"text-align: right;\">\n",
              "      <th></th>\n",
              "      <th>movieId</th>\n",
              "      <th>title</th>\n",
              "      <th>genres</th>\n",
              "    </tr>\n",
              "  </thead>\n",
              "  <tbody>\n",
              "    <tr>\n",
              "      <th>266</th>\n",
              "      <td>306</td>\n",
              "      <td>Three Colors: Red (Trois couleurs: Rouge) (1994)</td>\n",
              "      <td>Drama</td>\n",
              "    </tr>\n",
              "    <tr>\n",
              "      <th>2453</th>\n",
              "      <td>3266</td>\n",
              "      <td>Man Bites Dog (C'est arrivé près de chez vous)...</td>\n",
              "      <td>Comedy|Crime|Drama|Thriller</td>\n",
              "    </tr>\n",
              "    <tr>\n",
              "      <th>3905</th>\n",
              "      <td>5485</td>\n",
              "      <td>Tadpole (2002)</td>\n",
              "      <td>Comedy|Drama|Romance</td>\n",
              "    </tr>\n",
              "    <tr>\n",
              "      <th>4162</th>\n",
              "      <td>5992</td>\n",
              "      <td>Hours, The (2002)</td>\n",
              "      <td>Drama|Romance</td>\n",
              "    </tr>\n",
              "    <tr>\n",
              "      <th>6051</th>\n",
              "      <td>40491</td>\n",
              "      <td>Match Factory Girl, The (Tulitikkutehtaan tytt...</td>\n",
              "      <td>Comedy|Drama</td>\n",
              "    </tr>\n",
              "    <tr>\n",
              "      <th>6728</th>\n",
              "      <td>59018</td>\n",
              "      <td>Visitor, The (2007)</td>\n",
              "      <td>Drama|Romance</td>\n",
              "    </tr>\n",
              "    <tr>\n",
              "      <th>6813</th>\n",
              "      <td>60943</td>\n",
              "      <td>Frozen River (2008)</td>\n",
              "      <td>Drama</td>\n",
              "    </tr>\n",
              "    <tr>\n",
              "      <th>7177</th>\n",
              "      <td>72171</td>\n",
              "      <td>Black Dynamite (2009)</td>\n",
              "      <td>Action|Comedy</td>\n",
              "    </tr>\n",
              "    <tr>\n",
              "      <th>9497</th>\n",
              "      <td>170705</td>\n",
              "      <td>Band of Brothers (2001)</td>\n",
              "      <td>Action|Drama|War</td>\n",
              "    </tr>\n",
              "    <tr>\n",
              "      <th>9683</th>\n",
              "      <td>183897</td>\n",
              "      <td>Isle of Dogs (2018)</td>\n",
              "      <td>Animation|Comedy</td>\n",
              "    </tr>\n",
              "  </tbody>\n",
              "</table>\n",
              "</div>"
            ],
            "text/plain": [
              "     movieId  ...                       genres\n",
              "266      306  ...                        Drama\n",
              "2453    3266  ...  Comedy|Crime|Drama|Thriller\n",
              "3905    5485  ...         Comedy|Drama|Romance\n",
              "4162    5992  ...                Drama|Romance\n",
              "6051   40491  ...                 Comedy|Drama\n",
              "6728   59018  ...                Drama|Romance\n",
              "6813   60943  ...                        Drama\n",
              "7177   72171  ...                Action|Comedy\n",
              "9497  170705  ...             Action|Drama|War\n",
              "9683  183897  ...             Animation|Comedy\n",
              "\n",
              "[10 rows x 3 columns]"
            ]
          },
          "metadata": {
            "tags": []
          },
          "execution_count": 64
        }
      ]
    },
    {
      "cell_type": "code",
      "metadata": {
        "id": "Dm3MhtvFGEgR",
        "colab_type": "code",
        "outputId": "c1eb0cff-bc4f-47dd-f782-0b4b65c965b4",
        "colab": {
          "base_uri": "https://localhost:8080/",
          "height": 376
        }
      },
      "source": [
        "rec_movieId=[]\n",
        "for item in user_rec.loc[user_rec['userId']==232]['recommendations'][96]:\n",
        "  rec_movieId.append(str(item[0]))\n",
        "print(rec_movieId)\n",
        "movies_pandas[movies_pandas['movieId'].isin(rec_movieId)]"
      ],
      "execution_count": 0,
      "outputs": [
        {
          "output_type": "stream",
          "text": [
            "['33649', '179135', '74226', '138966', '134796', '7071', '26073', '117531', '184245', '59018']\n"
          ],
          "name": "stdout"
        },
        {
          "output_type": "execute_result",
          "data": {
            "text/html": [
              "<div>\n",
              "<style scoped>\n",
              "    .dataframe tbody tr th:only-of-type {\n",
              "        vertical-align: middle;\n",
              "    }\n",
              "\n",
              "    .dataframe tbody tr th {\n",
              "        vertical-align: top;\n",
              "    }\n",
              "\n",
              "    .dataframe thead th {\n",
              "        text-align: right;\n",
              "    }\n",
              "</style>\n",
              "<table border=\"1\" class=\"dataframe\">\n",
              "  <thead>\n",
              "    <tr style=\"text-align: right;\">\n",
              "      <th></th>\n",
              "      <th>movieId</th>\n",
              "      <th>title</th>\n",
              "      <th>genres</th>\n",
              "    </tr>\n",
              "  </thead>\n",
              "  <tbody>\n",
              "    <tr>\n",
              "      <th>4747</th>\n",
              "      <td>7071</td>\n",
              "      <td>Woman Under the Influence, A (1974)</td>\n",
              "      <td>Drama</td>\n",
              "    </tr>\n",
              "    <tr>\n",
              "      <th>5448</th>\n",
              "      <td>26073</td>\n",
              "      <td>Human Condition III, The (Ningen no joken III)...</td>\n",
              "      <td>Drama|War</td>\n",
              "    </tr>\n",
              "    <tr>\n",
              "      <th>5906</th>\n",
              "      <td>33649</td>\n",
              "      <td>Saving Face (2004)</td>\n",
              "      <td>Comedy|Drama|Romance</td>\n",
              "    </tr>\n",
              "    <tr>\n",
              "      <th>6728</th>\n",
              "      <td>59018</td>\n",
              "      <td>Visitor, The (2007)</td>\n",
              "      <td>Drama|Romance</td>\n",
              "    </tr>\n",
              "    <tr>\n",
              "      <th>7249</th>\n",
              "      <td>74226</td>\n",
              "      <td>Dream of Light (a.k.a. Quince Tree Sun, The) (...</td>\n",
              "      <td>Documentary|Drama</td>\n",
              "    </tr>\n",
              "    <tr>\n",
              "      <th>8591</th>\n",
              "      <td>117531</td>\n",
              "      <td>Watermark (2014)</td>\n",
              "      <td>Documentary</td>\n",
              "    </tr>\n",
              "    <tr>\n",
              "      <th>8896</th>\n",
              "      <td>134796</td>\n",
              "      <td>Bitter Lake (2015)</td>\n",
              "      <td>Documentary</td>\n",
              "    </tr>\n",
              "    <tr>\n",
              "      <th>8986</th>\n",
              "      <td>138966</td>\n",
              "      <td>Nasu: Summer in Andalusia (2003)</td>\n",
              "      <td>Animation</td>\n",
              "    </tr>\n",
              "    <tr>\n",
              "      <th>9634</th>\n",
              "      <td>179135</td>\n",
              "      <td>Blue Planet II (2017)</td>\n",
              "      <td>Documentary</td>\n",
              "    </tr>\n",
              "    <tr>\n",
              "      <th>9688</th>\n",
              "      <td>184245</td>\n",
              "      <td>De platte jungle (1978)</td>\n",
              "      <td>Documentary</td>\n",
              "    </tr>\n",
              "  </tbody>\n",
              "</table>\n",
              "</div>"
            ],
            "text/plain": [
              "     movieId  ...                genres\n",
              "4747    7071  ...                 Drama\n",
              "5448   26073  ...             Drama|War\n",
              "5906   33649  ...  Comedy|Drama|Romance\n",
              "6728   59018  ...         Drama|Romance\n",
              "7249   74226  ...     Documentary|Drama\n",
              "8591  117531  ...           Documentary\n",
              "8896  134796  ...           Documentary\n",
              "8986  138966  ...             Animation\n",
              "9634  179135  ...           Documentary\n",
              "9688  184245  ...           Documentary\n",
              "\n",
              "[10 rows x 3 columns]"
            ]
          },
          "metadata": {
            "tags": []
          },
          "execution_count": 65
        }
      ]
    },
    {
      "cell_type": "markdown",
      "metadata": {
        "id": "N4zXb02kgnFz",
        "colab_type": "text"
      },
      "source": [
        "\n",
        "**Find the similar movies for movie with id: 463, 471**\n",
        "\n",
        "You can find the similar movies based on the ALS results"
      ]
    },
    {
      "cell_type": "code",
      "metadata": {
        "id": "3OwTjbBujqJV",
        "colab_type": "code",
        "colab": {}
      },
      "source": [
        "#Generate top 10 user recommendations for each movie\n",
        "movieRecs=model.recommendForAllItems(10)"
      ],
      "execution_count": 0,
      "outputs": []
    },
    {
      "cell_type": "code",
      "metadata": {
        "id": "x6Fc73ySHlVl",
        "colab_type": "code",
        "colab": {}
      },
      "source": [
        "item_factors = best_model.itemFactors"
      ],
      "execution_count": 0,
      "outputs": []
    },
    {
      "cell_type": "code",
      "metadata": {
        "id": "SCsg67nuHsHG",
        "colab_type": "code",
        "outputId": "cac547d9-3469-4a4b-900d-6317f4816d3c",
        "colab": {
          "base_uri": "https://localhost:8080/",
          "height": 170
        }
      },
      "source": [
        "item_factors.show(3)"
      ],
      "execution_count": 0,
      "outputs": [
        {
          "output_type": "stream",
          "text": [
            "+---+--------------------+\n",
            "| id|            features|\n",
            "+---+--------------------+\n",
            "| 10|[1.11374, 0.34687...|\n",
            "| 20|[0.7336472, -0.77...|\n",
            "| 30|[1.1324253, -1.73...|\n",
            "+---+--------------------+\n",
            "only showing top 3 rows\n",
            "\n"
          ],
          "name": "stdout"
        }
      ]
    },
    {
      "cell_type": "code",
      "metadata": {
        "id": "UaapS9S6uIH7",
        "colab_type": "code",
        "outputId": "7b068e5f-3740-430e-921a-df042626d201",
        "colab": {
          "base_uri": "https://localhost:8080/",
          "height": 292
        }
      },
      "source": [
        "!pip install koalas"
      ],
      "execution_count": 0,
      "outputs": [
        {
          "output_type": "stream",
          "text": [
            "Collecting koalas\n",
            "\u001b[?25l  Downloading https://files.pythonhosted.org/packages/85/e3/e1a24f6e8d110ef03bf4023b75581a42583643b7f38a5245a086175b4053/koalas-0.33.0-py3-none-any.whl (964kB)\n",
            "\r\u001b[K     |▍                               | 10kB 24.6MB/s eta 0:00:01\r\u001b[K     |▊                               | 20kB 3.1MB/s eta 0:00:01\r\u001b[K     |█                               | 30kB 4.1MB/s eta 0:00:01\r\u001b[K     |█▍                              | 40kB 4.4MB/s eta 0:00:01\r\u001b[K     |█▊                              | 51kB 3.6MB/s eta 0:00:01\r\u001b[K     |██                              | 61kB 4.1MB/s eta 0:00:01\r\u001b[K     |██▍                             | 71kB 4.3MB/s eta 0:00:01\r\u001b[K     |██▊                             | 81kB 4.7MB/s eta 0:00:01\r\u001b[K     |███                             | 92kB 5.1MB/s eta 0:00:01\r\u001b[K     |███▍                            | 102kB 4.8MB/s eta 0:00:01\r\u001b[K     |███▊                            | 112kB 4.8MB/s eta 0:00:01\r\u001b[K     |████                            | 122kB 4.8MB/s eta 0:00:01\r\u001b[K     |████▍                           | 133kB 4.8MB/s eta 0:00:01\r\u001b[K     |████▊                           | 143kB 4.8MB/s eta 0:00:01\r\u001b[K     |█████                           | 153kB 4.8MB/s eta 0:00:01\r\u001b[K     |█████▍                          | 163kB 4.8MB/s eta 0:00:01\r\u001b[K     |█████▊                          | 174kB 4.8MB/s eta 0:00:01\r\u001b[K     |██████▏                         | 184kB 4.8MB/s eta 0:00:01\r\u001b[K     |██████▌                         | 194kB 4.8MB/s eta 0:00:01\r\u001b[K     |██████▉                         | 204kB 4.8MB/s eta 0:00:01\r\u001b[K     |███████▏                        | 215kB 4.8MB/s eta 0:00:01\r\u001b[K     |███████▌                        | 225kB 4.8MB/s eta 0:00:01\r\u001b[K     |███████▉                        | 235kB 4.8MB/s eta 0:00:01\r\u001b[K     |████████▏                       | 245kB 4.8MB/s eta 0:00:01\r\u001b[K     |████████▌                       | 256kB 4.8MB/s eta 0:00:01\r\u001b[K     |████████▉                       | 266kB 4.8MB/s eta 0:00:01\r\u001b[K     |█████████▏                      | 276kB 4.8MB/s eta 0:00:01\r\u001b[K     |█████████▌                      | 286kB 4.8MB/s eta 0:00:01\r\u001b[K     |█████████▉                      | 296kB 4.8MB/s eta 0:00:01\r\u001b[K     |██████████▏                     | 307kB 4.8MB/s eta 0:00:01\r\u001b[K     |██████████▌                     | 317kB 4.8MB/s eta 0:00:01\r\u001b[K     |██████████▉                     | 327kB 4.8MB/s eta 0:00:01\r\u001b[K     |███████████▏                    | 337kB 4.8MB/s eta 0:00:01\r\u001b[K     |███████████▌                    | 348kB 4.8MB/s eta 0:00:01\r\u001b[K     |████████████                    | 358kB 4.8MB/s eta 0:00:01\r\u001b[K     |████████████▎                   | 368kB 4.8MB/s eta 0:00:01\r\u001b[K     |████████████▋                   | 378kB 4.8MB/s eta 0:00:01\r\u001b[K     |█████████████                   | 389kB 4.8MB/s eta 0:00:01\r\u001b[K     |█████████████▎                  | 399kB 4.8MB/s eta 0:00:01\r\u001b[K     |█████████████▋                  | 409kB 4.8MB/s eta 0:00:01\r\u001b[K     |██████████████                  | 419kB 4.8MB/s eta 0:00:01\r\u001b[K     |██████████████▎                 | 430kB 4.8MB/s eta 0:00:01\r\u001b[K     |██████████████▋                 | 440kB 4.8MB/s eta 0:00:01\r\u001b[K     |███████████████                 | 450kB 4.8MB/s eta 0:00:01\r\u001b[K     |███████████████▎                | 460kB 4.8MB/s eta 0:00:01\r\u001b[K     |███████████████▋                | 471kB 4.8MB/s eta 0:00:01\r\u001b[K     |████████████████                | 481kB 4.8MB/s eta 0:00:01\r\u001b[K     |████████████████▎               | 491kB 4.8MB/s eta 0:00:01\r\u001b[K     |████████████████▋               | 501kB 4.8MB/s eta 0:00:01\r\u001b[K     |█████████████████               | 512kB 4.8MB/s eta 0:00:01\r\u001b[K     |█████████████████▎              | 522kB 4.8MB/s eta 0:00:01\r\u001b[K     |█████████████████▊              | 532kB 4.8MB/s eta 0:00:01\r\u001b[K     |██████████████████              | 542kB 4.8MB/s eta 0:00:01\r\u001b[K     |██████████████████▍             | 552kB 4.8MB/s eta 0:00:01\r\u001b[K     |██████████████████▊             | 563kB 4.8MB/s eta 0:00:01\r\u001b[K     |███████████████████             | 573kB 4.8MB/s eta 0:00:01\r\u001b[K     |███████████████████▍            | 583kB 4.8MB/s eta 0:00:01\r\u001b[K     |███████████████████▊            | 593kB 4.8MB/s eta 0:00:01\r\u001b[K     |████████████████████            | 604kB 4.8MB/s eta 0:00:01\r\u001b[K     |████████████████████▍           | 614kB 4.8MB/s eta 0:00:01\r\u001b[K     |████████████████████▊           | 624kB 4.8MB/s eta 0:00:01\r\u001b[K     |█████████████████████           | 634kB 4.8MB/s eta 0:00:01\r\u001b[K     |█████████████████████▍          | 645kB 4.8MB/s eta 0:00:01\r\u001b[K     |█████████████████████▊          | 655kB 4.8MB/s eta 0:00:01\r\u001b[K     |██████████████████████          | 665kB 4.8MB/s eta 0:00:01\r\u001b[K     |██████████████████████▍         | 675kB 4.8MB/s eta 0:00:01\r\u001b[K     |██████████████████████▊         | 686kB 4.8MB/s eta 0:00:01\r\u001b[K     |███████████████████████         | 696kB 4.8MB/s eta 0:00:01\r\u001b[K     |███████████████████████▌        | 706kB 4.8MB/s eta 0:00:01\r\u001b[K     |███████████████████████▉        | 716kB 4.8MB/s eta 0:00:01\r\u001b[K     |████████████████████████▏       | 727kB 4.8MB/s eta 0:00:01\r\u001b[K     |████████████████████████▌       | 737kB 4.8MB/s eta 0:00:01\r\u001b[K     |████████████████████████▉       | 747kB 4.8MB/s eta 0:00:01\r\u001b[K     |█████████████████████████▏      | 757kB 4.8MB/s eta 0:00:01\r\u001b[K     |█████████████████████████▌      | 768kB 4.8MB/s eta 0:00:01\r\u001b[K     |█████████████████████████▉      | 778kB 4.8MB/s eta 0:00:01\r\u001b[K     |██████████████████████████▏     | 788kB 4.8MB/s eta 0:00:01\r\u001b[K     |██████████████████████████▌     | 798kB 4.8MB/s eta 0:00:01\r\u001b[K     |██████████████████████████▉     | 808kB 4.8MB/s eta 0:00:01\r\u001b[K     |███████████████████████████▏    | 819kB 4.8MB/s eta 0:00:01\r\u001b[K     |███████████████████████████▌    | 829kB 4.8MB/s eta 0:00:01\r\u001b[K     |███████████████████████████▉    | 839kB 4.8MB/s eta 0:00:01\r\u001b[K     |████████████████████████████▏   | 849kB 4.8MB/s eta 0:00:01\r\u001b[K     |████████████████████████████▌   | 860kB 4.8MB/s eta 0:00:01\r\u001b[K     |████████████████████████████▉   | 870kB 4.8MB/s eta 0:00:01\r\u001b[K     |█████████████████████████████▎  | 880kB 4.8MB/s eta 0:00:01\r\u001b[K     |█████████████████████████████▋  | 890kB 4.8MB/s eta 0:00:01\r\u001b[K     |██████████████████████████████  | 901kB 4.8MB/s eta 0:00:01\r\u001b[K     |██████████████████████████████▎ | 911kB 4.8MB/s eta 0:00:01\r\u001b[K     |██████████████████████████████▋ | 921kB 4.8MB/s eta 0:00:01\r\u001b[K     |███████████████████████████████ | 931kB 4.8MB/s eta 0:00:01\r\u001b[K     |███████████████████████████████▎| 942kB 4.8MB/s eta 0:00:01\r\u001b[K     |███████████████████████████████▋| 952kB 4.8MB/s eta 0:00:01\r\u001b[K     |████████████████████████████████| 962kB 4.8MB/s eta 0:00:01\r\u001b[K     |████████████████████████████████| 972kB 4.8MB/s \n",
            "\u001b[?25hRequirement already satisfied: matplotlib>=3.0.0 in /usr/local/lib/python3.6/dist-packages (from koalas) (3.2.1)\n",
            "Requirement already satisfied: pandas>=0.23.2 in /usr/local/lib/python3.6/dist-packages (from koalas) (1.0.3)\n",
            "Requirement already satisfied: numpy>=1.14 in /usr/local/lib/python3.6/dist-packages (from koalas) (1.18.4)\n",
            "Requirement already satisfied: pyarrow>=0.10 in /usr/local/lib/python3.6/dist-packages (from koalas) (0.14.1)\n",
            "Requirement already satisfied: python-dateutil>=2.1 in /usr/local/lib/python3.6/dist-packages (from matplotlib>=3.0.0->koalas) (2.8.1)\n",
            "Requirement already satisfied: cycler>=0.10 in /usr/local/lib/python3.6/dist-packages (from matplotlib>=3.0.0->koalas) (0.10.0)\n",
            "Requirement already satisfied: pyparsing!=2.0.4,!=2.1.2,!=2.1.6,>=2.0.1 in /usr/local/lib/python3.6/dist-packages (from matplotlib>=3.0.0->koalas) (2.4.7)\n",
            "Requirement already satisfied: kiwisolver>=1.0.1 in /usr/local/lib/python3.6/dist-packages (from matplotlib>=3.0.0->koalas) (1.2.0)\n",
            "Requirement already satisfied: pytz>=2017.2 in /usr/local/lib/python3.6/dist-packages (from pandas>=0.23.2->koalas) (2018.9)\n",
            "Requirement already satisfied: six>=1.0.0 in /usr/local/lib/python3.6/dist-packages (from pyarrow>=0.10->koalas) (1.12.0)\n",
            "Installing collected packages: koalas\n",
            "Successfully installed koalas-0.33.0\n"
          ],
          "name": "stdout"
        }
      ]
    },
    {
      "cell_type": "code",
      "metadata": {
        "id": "5ujAIThmuRG_",
        "colab_type": "code",
        "colab": {}
      },
      "source": [
        "import databricks.koalas as ks"
      ],
      "execution_count": 0,
      "outputs": []
    },
    {
      "cell_type": "code",
      "metadata": {
        "id": "lNEg1QczuW-R",
        "colab_type": "code",
        "colab": {}
      },
      "source": [
        "movie_factors = item_factors.to_koalas()"
      ],
      "execution_count": 0,
      "outputs": []
    },
    {
      "cell_type": "code",
      "metadata": {
        "id": "YzXiQQbdIM86",
        "colab_type": "code",
        "outputId": "12977576-562e-4a23-b88c-930bead044cc",
        "colab": {
          "base_uri": "https://localhost:8080/",
          "height": 102
        }
      },
      "source": [
        "movie_factors.features[0]"
      ],
      "execution_count": 0,
      "outputs": [
        {
          "output_type": "execute_result",
          "data": {
            "text/plain": [
              "[1.1137399673461914,\n",
              " 0.3468739688396454,\n",
              " 1.1952674388885498,\n",
              " 0.2775809168815613,\n",
              " 1.1339366436004639]"
            ]
          },
          "metadata": {
            "tags": []
          },
          "execution_count": 121
        }
      ]
    },
    {
      "cell_type": "code",
      "metadata": {
        "id": "hzWLPpwvxbRa",
        "colab_type": "code",
        "colab": {}
      },
      "source": [
        "def similar_movies(features, movieId):\n",
        "\n",
        "  try: \n",
        "    target_id_feature = movie_factors.loc[movie_factors.id == movieId].features.to_numpy()[0]\n",
        "  except:\n",
        "    return 'There is no movie with id ' + str(movieId)\n",
        "\n",
        "  similarities = []\n",
        "  for feature in movie_factors['features'].to_numpy():\n",
        "    similarity = np.dot(target_id_feature,feature)/(np.linalg.norm(target_id_feature) * np.linalg.norm(feature))\n",
        "    similarities.append(similarity)\n",
        "    #cosine similarity:sim(A,B)=cos(theta)=AdotB/(||A||*||B||)\n",
        "  ks_similarity = ks.DataFrame({'similarity' : similarities}, index = movie_factors.id.to_numpy())\n",
        "  # top 11 similar movies contain the movie itself with similarity = 1, so I need to remove it. \n",
        "  top_11 = ks_similarity.sort_values(by = ['similarity'], ascending = False).head(11)\n",
        "  joint = top_11.merge(movies_koalas, left_index=True, right_on = 'movieId', how = 'inner')\n",
        "  joint.sort_values(by = ['similarity'], ascending = False,inplace = True)\n",
        "  joint.reset_index(inplace = True)\n",
        "  # take top 10 similar movies\n",
        "  return joint.loc[1:,['movieId','title','genres']]\n"
      ],
      "execution_count": 0,
      "outputs": []
    },
    {
      "cell_type": "code",
      "metadata": {
        "id": "ciNtahvgwGJD",
        "colab_type": "code",
        "outputId": "893eac21-d4cf-4b06-d135-3d5794892476",
        "colab": {
          "base_uri": "https://localhost:8080/",
          "height": 34
        }
      },
      "source": [
        "similar_movies(features = movie_factors['features'], movieId = 463)"
      ],
      "execution_count": 0,
      "outputs": [
        {
          "output_type": "execute_result",
          "data": {
            "text/plain": [
              "'There is no movie with id 463'"
            ]
          },
          "metadata": {
            "tags": []
          },
          "execution_count": 114
        }
      ]
    },
    {
      "cell_type": "code",
      "metadata": {
        "id": "_mdFledvweh1",
        "colab_type": "code",
        "colab": {}
      },
      "source": [
        "movies_koalas = movies_df.to_koalas()"
      ],
      "execution_count": 0,
      "outputs": []
    },
    {
      "cell_type": "code",
      "metadata": {
        "id": "y6ySsDrIwQio",
        "colab_type": "code",
        "outputId": "726a88b1-cc6a-49f2-9033-8fbb9b81af6c",
        "colab": {
          "base_uri": "https://localhost:8080/",
          "height": 359
        }
      },
      "source": [
        "similar_movies(features = movie_factors['features'], movieId = 471)"
      ],
      "execution_count": 0,
      "outputs": [
        {
          "output_type": "execute_result",
          "data": {
            "text/html": [
              "<div>\n",
              "<style scoped>\n",
              "    .dataframe tbody tr th:only-of-type {\n",
              "        vertical-align: middle;\n",
              "    }\n",
              "\n",
              "    .dataframe tbody tr th {\n",
              "        vertical-align: top;\n",
              "    }\n",
              "\n",
              "    .dataframe thead th {\n",
              "        text-align: right;\n",
              "    }\n",
              "</style>\n",
              "<table border=\"1\" class=\"dataframe\">\n",
              "  <thead>\n",
              "    <tr style=\"text-align: right;\">\n",
              "      <th></th>\n",
              "      <th>movieId</th>\n",
              "      <th>title</th>\n",
              "      <th>genres</th>\n",
              "    </tr>\n",
              "  </thead>\n",
              "  <tbody>\n",
              "    <tr>\n",
              "      <th>1</th>\n",
              "      <td>3841</td>\n",
              "      <td>Air America (1990)</td>\n",
              "      <td>Action|Comedy</td>\n",
              "    </tr>\n",
              "    <tr>\n",
              "      <th>2</th>\n",
              "      <td>6408</td>\n",
              "      <td>Animals are Beautiful People (1974)</td>\n",
              "      <td>Comedy|Documentary</td>\n",
              "    </tr>\n",
              "    <tr>\n",
              "      <th>3</th>\n",
              "      <td>8738</td>\n",
              "      <td>Woman Is a Woman, A (femme est une femme, Une)...</td>\n",
              "      <td>Comedy|Drama|Musical|Romance</td>\n",
              "    </tr>\n",
              "    <tr>\n",
              "      <th>4</th>\n",
              "      <td>102123</td>\n",
              "      <td>This Is the End (2013)</td>\n",
              "      <td>Action|Comedy</td>\n",
              "    </tr>\n",
              "    <tr>\n",
              "      <th>5</th>\n",
              "      <td>43460</td>\n",
              "      <td>Tristram Shandy: A Cock and Bull Story (2005)</td>\n",
              "      <td>Comedy|Drama</td>\n",
              "    </tr>\n",
              "    <tr>\n",
              "      <th>6</th>\n",
              "      <td>6331</td>\n",
              "      <td>Spellbound (2002)</td>\n",
              "      <td>Documentary</td>\n",
              "    </tr>\n",
              "    <tr>\n",
              "      <th>7</th>\n",
              "      <td>72733</td>\n",
              "      <td>Invictus (2009)</td>\n",
              "      <td>Drama</td>\n",
              "    </tr>\n",
              "    <tr>\n",
              "      <th>8</th>\n",
              "      <td>49280</td>\n",
              "      <td>Bobby (2006)</td>\n",
              "      <td>Drama</td>\n",
              "    </tr>\n",
              "    <tr>\n",
              "      <th>9</th>\n",
              "      <td>412</td>\n",
              "      <td>Age of Innocence, The (1993)</td>\n",
              "      <td>Drama</td>\n",
              "    </tr>\n",
              "    <tr>\n",
              "      <th>10</th>\n",
              "      <td>6996</td>\n",
              "      <td>Highlander II: The Quickening (1991)</td>\n",
              "      <td>Action|Sci-Fi</td>\n",
              "    </tr>\n",
              "  </tbody>\n",
              "</table>\n",
              "</div>"
            ],
            "text/plain": [
              "   movieId                                                  title                        genres\n",
              "1     3841                                     Air America (1990)                 Action|Comedy\n",
              "2     6408                    Animals are Beautiful People (1974)            Comedy|Documentary\n",
              "3     8738  Woman Is a Woman, A (femme est une femme, Une) (1961)  Comedy|Drama|Musical|Romance\n",
              "4   102123                                 This Is the End (2013)                 Action|Comedy\n",
              "5    43460          Tristram Shandy: A Cock and Bull Story (2005)                  Comedy|Drama\n",
              "6     6331                                      Spellbound (2002)                   Documentary\n",
              "7    72733                                        Invictus (2009)                         Drama\n",
              "8    49280                                           Bobby (2006)                         Drama\n",
              "9      412                           Age of Innocence, The (1993)                         Drama\n",
              "10    6996                   Highlander II: The Quickening (1991)                 Action|Sci-Fi"
            ]
          },
          "metadata": {
            "tags": []
          },
          "execution_count": 118
        }
      ]
    },
    {
      "cell_type": "code",
      "metadata": {
        "id": "Du1kVN3Tz2TE",
        "colab_type": "code",
        "outputId": "63fcd679-df1f-4b5b-fcb3-6ad2f5100a9a",
        "colab": {
          "base_uri": "https://localhost:8080/",
          "height": 359
        }
      },
      "source": [
        "similar_movies(features = movie_factors['features'], movieId = 500)"
      ],
      "execution_count": 0,
      "outputs": [
        {
          "output_type": "execute_result",
          "data": {
            "text/html": [
              "<div>\n",
              "<style scoped>\n",
              "    .dataframe tbody tr th:only-of-type {\n",
              "        vertical-align: middle;\n",
              "    }\n",
              "\n",
              "    .dataframe tbody tr th {\n",
              "        vertical-align: top;\n",
              "    }\n",
              "\n",
              "    .dataframe thead th {\n",
              "        text-align: right;\n",
              "    }\n",
              "</style>\n",
              "<table border=\"1\" class=\"dataframe\">\n",
              "  <thead>\n",
              "    <tr style=\"text-align: right;\">\n",
              "      <th></th>\n",
              "      <th>movieId</th>\n",
              "      <th>title</th>\n",
              "      <th>genres</th>\n",
              "    </tr>\n",
              "  </thead>\n",
              "  <tbody>\n",
              "    <tr>\n",
              "      <th>1</th>\n",
              "      <td>1022</td>\n",
              "      <td>Cinderella (1950)</td>\n",
              "      <td>Animation|Children|Fantasy|Musical|Romance</td>\n",
              "    </tr>\n",
              "    <tr>\n",
              "      <th>2</th>\n",
              "      <td>60397</td>\n",
              "      <td>Mamma Mia! (2008)</td>\n",
              "      <td>Comedy|Musical|Romance</td>\n",
              "    </tr>\n",
              "    <tr>\n",
              "      <th>3</th>\n",
              "      <td>1805</td>\n",
              "      <td>Wild Things (1998)</td>\n",
              "      <td>Crime|Drama|Mystery|Thriller</td>\n",
              "    </tr>\n",
              "    <tr>\n",
              "      <th>4</th>\n",
              "      <td>27478</td>\n",
              "      <td>Ali G Indahouse (2002)</td>\n",
              "      <td>Comedy</td>\n",
              "    </tr>\n",
              "    <tr>\n",
              "      <th>5</th>\n",
              "      <td>837</td>\n",
              "      <td>Matilda (1996)</td>\n",
              "      <td>Children|Comedy|Fantasy</td>\n",
              "    </tr>\n",
              "    <tr>\n",
              "      <th>6</th>\n",
              "      <td>210</td>\n",
              "      <td>Wild Bill (1995)</td>\n",
              "      <td>Western</td>\n",
              "    </tr>\n",
              "    <tr>\n",
              "      <th>7</th>\n",
              "      <td>74</td>\n",
              "      <td>Bed of Roses (1996)</td>\n",
              "      <td>Drama|Romance</td>\n",
              "    </tr>\n",
              "    <tr>\n",
              "      <th>8</th>\n",
              "      <td>346</td>\n",
              "      <td>Backbeat (1993)</td>\n",
              "      <td>Drama|Musical</td>\n",
              "    </tr>\n",
              "    <tr>\n",
              "      <th>9</th>\n",
              "      <td>2436</td>\n",
              "      <td>Tea with Mussolini (1999)</td>\n",
              "      <td>Comedy|Drama|War</td>\n",
              "    </tr>\n",
              "    <tr>\n",
              "      <th>10</th>\n",
              "      <td>45517</td>\n",
              "      <td>Cars (2006)</td>\n",
              "      <td>Animation|Children|Comedy</td>\n",
              "    </tr>\n",
              "  </tbody>\n",
              "</table>\n",
              "</div>"
            ],
            "text/plain": [
              "   movieId                      title                                      genres\n",
              "1     1022          Cinderella (1950)  Animation|Children|Fantasy|Musical|Romance\n",
              "2    60397          Mamma Mia! (2008)                      Comedy|Musical|Romance\n",
              "3     1805         Wild Things (1998)                Crime|Drama|Mystery|Thriller\n",
              "4    27478     Ali G Indahouse (2002)                                      Comedy\n",
              "5      837             Matilda (1996)                     Children|Comedy|Fantasy\n",
              "6      210           Wild Bill (1995)                                     Western\n",
              "7       74        Bed of Roses (1996)                               Drama|Romance\n",
              "8      346            Backbeat (1993)                               Drama|Musical\n",
              "9     2436  Tea with Mussolini (1999)                            Comedy|Drama|War\n",
              "10   45517                Cars (2006)                   Animation|Children|Comedy"
            ]
          },
          "metadata": {
            "tags": []
          },
          "execution_count": 119
        }
      ]
    },
    {
      "cell_type": "markdown",
      "metadata": {
        "id": "agib60hn0Fh6",
        "colab_type": "text"
      },
      "source": [
        "# **Write the report**\n",
        "\n",
        "**motivation:**\n",
        "In this notebook, I try to use an Alternating Least Squares (ALS) algorithm with Spark APIs to predict the ratings for the movies in MovieLens small dataset.\n",
        "\n",
        "**Step 1: Data ETL and Data Exploration**\n",
        "\n",
        "* Conducted data preprocessing like splitting \n",
        "genres into categories\n",
        "* Conducted exploratory data analysis such as couting the number of movies for each category\n",
        "\n",
        "**Step 2: Trained the recommendation model based on Spark ALS**\n",
        "Solved by matrix factorization and alternating least squares(ALS).\n",
        "\n",
        "**Step 3: Used a grid search to find the optimal hyperparameters**\n",
        "\n",
        "**Step 4: Model testing**\n",
        "\n",
        "Check for the RMSE\n",
        "\n",
        "**Step 5: choose some users to recommend the movies**\n",
        "\n",
        "**Step 6: Find the similar movies based on the ALS results for certain movies**\n",
        "\n",
        "**Conclusion:**\n",
        "The best model has rmse=0.64 on the cross-validation and rmse=0.88 on the test dataset.\n",
        "\n",
        "The best model has 5 features which describe a movie in 5 dimensions. Based on the feature, I can define the cosine similarity between movies.\n",
        "\n",
        "\n",
        "\n",
        "\n",
        "\n",
        "\n",
        "\n",
        "\n"
      ]
    }
  ]
}